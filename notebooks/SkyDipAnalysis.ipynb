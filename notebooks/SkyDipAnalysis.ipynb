{
 "cells": [
  {
   "cell_type": "code",
   "execution_count": 2,
   "metadata": {
    "collapsed": true
   },
   "outputs": [],
   "source": [
    "import glob"
   ]
  },
  {
   "cell_type": "code",
   "execution_count": 3,
   "metadata": {
    "collapsed": false
   },
   "outputs": [
    {
     "name": "stdout",
     "output_type": "stream",
     "text": [
      "Populating the interactive namespace from numpy and matplotlib\n"
     ]
    }
   ],
   "source": [
    "%pylab inline"
   ]
  },
  {
   "cell_type": "code",
   "execution_count": 4,
   "metadata": {
    "collapsed": true
   },
   "outputs": [],
   "source": [
    "import numpy as np\n",
    "import time\n",
    "import visa\n",
    "from scipy.optimize import curve_fit"
   ]
  },
  {
   "cell_type": "code",
   "execution_count": 5,
   "metadata": {
    "collapsed": false
   },
   "outputs": [
    {
     "name": "stdout",
     "output_type": "stream",
     "text": [
      "/Users/APR1/Google Drive/COLUMBIA/S6/InterLab/radiometer\n"
     ]
    }
   ],
   "source": [
    "cd .."
   ]
  },
  {
   "cell_type": "code",
   "execution_count": 94,
   "metadata": {
    "collapsed": false
   },
   "outputs": [
    {
     "name": "stdout",
     "output_type": "stream",
     "text": [
      "['Data/2016-11-18_14:39:10_Readout.txt', 'Data/2016-11-18_14:41:54_Readout.txt', 'Data/2016-11-18_14:43:40_Readout.txt', 'Data/2016-11-18_14:45:45_Readout.txt', 'Data/2016-11-18_14:47:29_Readout.txt', 'Data/2016-11-18_14:48:48_Readout.txt', 'Data/2016-11-18_14:51:28_Readout.txt', 'Data/2016-11-18_14:53:24_Readout.txt', 'Data/2016-11-18_14:56:37_Readout.txt', 'Data/2016-11-18_14:59:01_Readout.txt', 'Data/2016-11-18_15:01:03_Readout.txt', 'Data/2016-11-18_15:02:32_Readout.txt', 'Data/2016-11-18_15:04:02_Readout.txt', 'Data/2016-11-18_15:05:25_Readout.txt', 'Data/2016-11-18_15:06:46_Readout.txt', 'Data/2016-11-18_15:08:22_Readout.txt', 'Data/2016-11-18_15:10:12_Readout.txt', 'Data/2016-11-18_15:11:39_Readout.txt', 'Data/2016-11-18_15:13:36_Readout.txt', 'Data/2016-11-18_15:16:00_Readout.txt', 'Data/2016-11-18_15:17:31_Readout.txt', 'Data/2016-11-18_15:19:16_Readout.txt', 'Data/2016-11-18_15:20:39_Readout.txt', 'Data/2016-11-18_15:23:25_Readout.txt', 'Data/2016-11-18_15:25:09_Readout.txt', 'Data/2016-11-18_15:26:50_Readout.txt', 'Data/2016-11-18_15:28:49_Readout.txt', 'Data/2016-11-18_15:30:27_Readout.txt', 'Data/2016-11-18_15:31:52_Readout.txt', 'Data/2016-11-18_15:33:46_Readout.txt', 'Data/2016-11-18_15:35:41_Readout.txt', 'Data/2016-11-18_15:37:16_Readout.txt', 'Data/2016-11-18_15:38:48_Readout.txt', 'Data/2016-11-18_15:40:12_Readout.txt', 'Data/2016-11-18_15:43:48_Readout.txt', 'Data/2016-11-18_15:46:34_Readout.txt', 'Data/2016-11-18_15:49:31_Readout.txt', 'Data/2016-11-18_15:51:06_Readout.txt', 'Data/2016-11-18_15:58:10_Readout.txt', 'Data/2016-11-18_16:00:09_Readout.txt', 'Data/2016-11-18_16:01:55_Readout.txt', 'Data/2016-11-18_16:03:40_Readout.txt', 'Data/2016-11-18_16:05:05_Readout.txt', 'Data/2016-11-18_16:06:18_Readout.txt', 'Data/2016-11-18_16:08:04_Readout.txt', 'Data/2016-11-18_16:09:37_Readout.txt', 'Data/2016-11-18_16:11:05_Readout.txt', 'Data/2016-11-18_16:12:46_Readout.txt', 'Data/2016-11-18_16:14:06_Readout.txt', 'Data/2016-11-18_16:15:30_Readout.txt', 'Data/2016-11-18_16:16:59_Readout.txt', 'Data/2016-11-18_16:18:26_Readout.txt', 'Data/2016-11-18_16:19:45_Readout.txt', 'Data/2016-11-18_16:21:04_Readout.txt', 'Data/2016-11-18_16:22:18_Readout.txt', 'Data/2016-11-18_16:23:32_Readout.txt', 'Data/2016-11-18_16:24:54_Readout.txt', 'Data/2016-11-18_16:26:27_Readout.txt', 'Data/2016-11-18_16:27:48_Readout.txt', 'Data/2016-11-18_16:29:45_Readout.txt', 'Data/2016-11-18_16:33:20_Readout.txt', 'Data/2016-11-18_16:35:56_Readout.txt', 'Data/2016-11-18_16:37:05_Readout.txt', 'Data/2016-11-18_16:43:45_Readout.txt', 'Data/2016-11-18_16:44:57_Readout.txt', 'Data/2016-11-18_16:46:10_Readout.txt', 'Data/2016-11-18_16:47:15_Readout.txt', 'Data/2016-11-18_16:49:27_Readout.txt', 'Data/2016-11-18_16:53:14_Readout.txt']\n"
     ]
    }
   ],
   "source": [
    "date = \"2016-11-18\"\n",
    "t = \"\"\n",
    "files = glob.glob(\"Data/\"+date+\"_\"+t+\"*.txt\")\n",
    "print(files)"
   ]
  },
  {
   "cell_type": "code",
   "execution_count": 96,
   "metadata": {
    "collapsed": false
   },
   "outputs": [
    {
     "name": "stdout",
     "output_type": "stream",
     "text": [
      "[['./Data/2016-11-18_14:56:37_Readout.txt\\n', 'Duration (in s): 60\\n', 'Pointing Position of the Horn: Sky\\n', 'Angle pointing (from horizontal perpendicular to supporting axis): 90\\n', 'Angle pointing (from horizontal parallel to supporting axis): 20\\n', 'Calibrator used: NO\\n', 'Temperature Outside (in celcius): 16.5\\n', 'Temperature of the calibrator (in celcius): \\n', 'Weather: very clear\\n'], ['./Data/2016-11-18_14:59:01_Readout.txt\\n', 'Duration (in s): 60\\n', 'Pointing Position of the Horn: Sky\\n', 'Angle pointing (from horizontal perpendicular to supporting axis): 90\\n', 'Angle pointing (from horizontal parallel to supporting axis): 25\\n', 'Calibrator used: NO\\n', 'Temperature Outside (in celcius): 16.5\\n', 'Temperature of the calibrator (in celcius): \\n', 'Weather: very clear\\n'], ['./Data/2016-11-18_15:01:03_Readout.txt\\n', 'Duration (in s): 60\\n', 'Pointing Position of the Horn: Sky\\n', 'Angle pointing (from horizontal perpendicular to supporting axis): 90\\n', 'Angle pointing (from horizontal parallel to supporting axis): 30\\n', 'Calibrator used: NO\\n', 'Temperature Outside (in celcius): 16.5\\n', 'Temperature of the calibrator (in celcius): \\n', 'Weather: very clear\\n'], ['./Data/2016-11-18_15:02:32_Readout.txt\\n', 'Duration (in s): 60\\n', 'Pointing Position of the Horn: Sky\\n', 'Angle pointing (from horizontal perpendicular to supporting axis): 90\\n', 'Angle pointing (from horizontal parallel to supporting axis): 35\\n', 'Calibrator used: NO\\n', 'Temperature Outside (in celcius): 16.5\\n', 'Temperature of the calibrator (in celcius): \\n', 'Weather: very clear\\n'], ['./Data/2016-11-18_15:04:02_Readout.txt\\n', 'Duration (in s): 60\\n', 'Pointing Position of the Horn: Sky\\n', 'Angle pointing (from horizontal perpendicular to supporting axis): 90\\n', 'Angle pointing (from horizontal parallel to supporting axis): 40\\n', 'Calibrator used: NO\\n', 'Temperature Outside (in celcius): 16.5\\n', 'Temperature of the calibrator (in celcius): \\n', 'Weather: very clear\\n'], ['./Data/2016-11-18_15:05:25_Readout.txt\\n', 'Duration (in s): 60\\n', 'Pointing Position of the Horn: Sky\\n', 'Angle pointing (from horizontal perpendicular to supporting axis): 90\\n', 'Angle pointing (from horizontal parallel to supporting axis): 45\\n', 'Calibrator used: NO\\n', 'Temperature Outside (in celcius): 16.5\\n', 'Temperature of the calibrator (in celcius): \\n', 'Weather: very clear\\n'], ['./Data/2016-11-18_15:06:46_Readout.txt\\n', 'Duration (in s): 60\\n', 'Pointing Position of the Horn: Sky\\n', 'Angle pointing (from horizontal perpendicular to supporting axis): 90\\n', 'Angle pointing (from horizontal parallel to supporting axis): 50\\n', 'Calibrator used: NO\\n', 'Temperature Outside (in celcius): 16.5\\n', 'Temperature of the calibrator (in celcius): \\n', 'Weather: very clear\\n'], ['./Data/2016-11-18_15:08:22_Readout.txt\\n', 'Duration (in s): 60\\n', 'Pointing Position of the Horn: Sky\\n', 'Angle pointing (from horizontal perpendicular to supporting axis): 90\\n', 'Angle pointing (from horizontal parallel to supporting axis): 55\\n', 'Calibrator used: NO\\n', 'Temperature Outside (in celcius): 16.5\\n', 'Temperature of the calibrator (in celcius): \\n', 'Weather: very clear\\n'], ['./Data/2016-11-18_15:10:12_Readout.txt\\n', 'Duration (in s): 60\\n', 'Pointing Position of the Horn: Sky\\n', 'Angle pointing (from horizontal perpendicular to supporting axis): 90\\n', 'Angle pointing (from horizontal parallel to supporting axis): 60\\n', 'Calibrator used: NO\\n', 'Temperature Outside (in celcius): 16.5\\n', 'Temperature of the calibrator (in celcius): \\n', 'Weather: very clear\\n'], ['./Data/2016-11-18_15:11:39_Readout.txt\\n', 'Duration (in s): 60\\n', 'Pointing Position of the Horn: Sky\\n', 'Angle pointing (from horizontal perpendicular to supporting axis): 90\\n', 'Angle pointing (from horizontal parallel to supporting axis): 65\\n', 'Calibrator used: NO\\n', 'Temperature Outside (in celcius): 16.5\\n', 'Temperature of the calibrator (in celcius): \\n', 'Weather: very clear\\n'], ['./Data/2016-11-18_15:13:36_Readout.txt\\n', 'Duration (in s): 60\\n', 'Pointing Position of the Horn: Sky\\n', 'Angle pointing (from horizontal perpendicular to supporting axis): 90\\n', 'Angle pointing (from horizontal parallel to supporting axis): 70\\n', 'Calibrator used: NO\\n', 'Temperature Outside (in celcius): 16.5\\n', 'Temperature of the calibrator (in celcius): \\n', 'Weather: very clear\\n'], ['./Data/2016-11-18_15:16:00_Readout.txt\\n', 'Duration (in s): 60\\n', 'Pointing Position of the Horn: Sky\\n', 'Angle pointing (from horizontal perpendicular to supporting axis): 90\\n', 'Angle pointing (from horizontal parallel to supporting axis): 75\\n', 'Calibrator used: NO\\n', 'Temperature Outside (in celcius): 16.5\\n', 'Temperature of the calibrator (in celcius): \\n', 'Weather: very clear\\n'], ['./Data/2016-11-18_15:17:31_Readout.txt\\n', 'Duration (in s): 60\\n', 'Pointing Position of the Horn: Sky\\n', 'Angle pointing (from horizontal perpendicular to supporting axis): 90\\n', 'Angle pointing (from horizontal parallel to supporting axis): 80\\n', 'Calibrator used: NO\\n', 'Temperature Outside (in celcius): 16.5\\n', 'Temperature of the calibrator (in celcius): \\n', 'Weather: very clear\\n'], ['./Data/2016-11-18_15:19:16_Readout.txt\\n', 'Duration (in s): 60\\n', 'Pointing Position of the Horn: Sky\\n', 'Angle pointing (from horizontal perpendicular to supporting axis): 90\\n', 'Angle pointing (from horizontal parallel to supporting axis): 85\\n', 'Calibrator used: NO\\n', 'Temperature Outside (in celcius): 16.5\\n', 'Temperature of the calibrator (in celcius): \\n', 'Weather: very clear\\n'], ['./Data/2016-11-18_15:20:39_Readout.txt\\n', 'Duration (in s): 60\\n', 'Pointing Position of the Horn: Sky\\n', 'Angle pointing (from horizontal perpendicular to supporting axis): 90\\n', 'Angle pointing (from horizontal parallel to supporting axis): 90\\n', 'Calibrator used: NO\\n', 'Temperature Outside (in celcius): 16.5\\n', 'Temperature of the calibrator (in celcius): \\n', 'Weather: very clear\\n'], ['./Data/2016-11-18_15:23:25_Readout.txt\\n', 'Duration (in s): 60\\n', 'Pointing Position of the Horn: Sky\\n', 'Angle pointing (from horizontal perpendicular to supporting axis): 90\\n', 'Angle pointing (from horizontal parallel to supporting axis): 90\\n', 'Calibrator used: NO\\n', 'Temperature Outside (in celcius): 16.5\\n', 'Temperature of the calibrator (in celcius): \\n', 'Weather: very clear\\n']]\n"
     ]
    }
   ],
   "source": [
    "# read header\n",
    "headers = []\n",
    "for f in files[8:24]:\n",
    "    with open(f,\"r\") as file: \n",
    "        header = []\n",
    "        for line in file:\n",
    "            if line.startswith(\"#\"):\n",
    "                header.append(line[2:])\n",
    "        headers.append(header)\n",
    "print(headers)"
   ]
  },
  {
   "cell_type": "code",
   "execution_count": 97,
   "metadata": {
    "collapsed": false
   },
   "outputs": [
    {
     "name": "stdout",
     "output_type": "stream",
     "text": [
      "dict_keys(['25', '35', '75', '45', '65', '20', '85', '80', '90', '60', '40', '70', '30', '50', '55'])\n",
      "{'25': ['./Data/2016-11-18_14:59:01_Readout.txt'], '35': ['./Data/2016-11-18_15:02:32_Readout.txt'], '75': ['./Data/2016-11-18_15:16:00_Readout.txt'], '45': ['./Data/2016-11-18_15:05:25_Readout.txt'], '65': ['./Data/2016-11-18_15:11:39_Readout.txt'], '20': ['./Data/2016-11-18_14:56:37_Readout.txt'], '85': ['./Data/2016-11-18_15:19:16_Readout.txt'], '80': ['./Data/2016-11-18_15:17:31_Readout.txt'], '90': ['./Data/2016-11-18_15:20:39_Readout.txt', './Data/2016-11-18_15:23:25_Readout.txt'], '60': ['./Data/2016-11-18_15:10:12_Readout.txt'], '40': ['./Data/2016-11-18_15:04:02_Readout.txt'], '70': ['./Data/2016-11-18_15:13:36_Readout.txt'], '30': ['./Data/2016-11-18_15:01:03_Readout.txt'], '50': ['./Data/2016-11-18_15:06:46_Readout.txt'], '55': ['./Data/2016-11-18_15:08:22_Readout.txt']}\n"
     ]
    }
   ],
   "source": [
    "# select files with no callibrator\n",
    "unCalFiles = []\n",
    "angleDicFiles = dict()\n",
    "for h in headers:\n",
    "    calLine = h[5].strip('\\n')\n",
    "    #print(calLine)\n",
    "    if 'NO' in calLine.split(': ')[1]:\n",
    "        #print(1)\n",
    "        unCalFiles.append(h[0].strip('\\n'))\n",
    "        angle = h[4].strip('\\n').split(': ')[1]\n",
    "        #print(angle)\n",
    "        if len(angle)==2: \n",
    "            if angle not in angleDicFiles:\n",
    "                angleDicFiles[angle]=[h[0].strip('\\n')]\n",
    "            else:\n",
    "                angleDicFiles[angle].append(h[0].strip('\\n'))\n",
    "print(angleDicFiles.keys())\n",
    "print(angleDicFiles)"
   ]
  },
  {
   "cell_type": "code",
   "execution_count": 98,
   "metadata": {
    "collapsed": false
   },
   "outputs": [
    {
     "name": "stdout",
     "output_type": "stream",
     "text": [
      "[ 20.  25.  30.  35.  40.  45.  50.  55.  60.  65.  70.  75.  80.  85.  90.]\n",
      "{'25': 'E86D17', '35': '417AF8', '75': '9CE9A2', '45': 'A98C47', '65': '5B511F', '20': 'D05B43', '85': '5C884A', '80': '6E033D', '90': '450A3B', '60': 'CE942F', '40': '23C091', '70': '6D4126', '30': '9B6AEA', '50': '7373D5', '55': 'DFB3A0'}\n"
     ]
    }
   ],
   "source": [
    "angles = np.linspace(20,90,(90-20)/5+1)\n",
    "from random import randint\n",
    "colors = dict()\n",
    "for i in range(len(angles)):\n",
    "    colors[str(int(angles[i]))]='%06X' % randint(0, 0xFFFFFF)\n",
    "print(angles)\n",
    "print(colors)"
   ]
  },
  {
   "cell_type": "code",
   "execution_count": 101,
   "metadata": {
    "collapsed": false
   },
   "outputs": [
    {
     "name": "stdout",
     "output_type": "stream",
     "text": [
      "[0.85455991631799155, 0.8390081512605041, 0.83028041841004174, 0.82391998327759197, 0.81794460251046031, 0.8140476987447699, 0.81133193629505451, 0.80878625314333608, 0.80681917922948077, 0.80576783919597994, 0.80378199329983246, 0.80388533109807214, 0.80340787269681746, 0.80255358045492842, 0.80216974278128683]\n"
     ]
    },
    {
     "data": {
      "image/png": "[encoded data removed]",
      "text/plain": [
       "<matplotlib.figure.Figure at 0x11310c898>"
      ]
     },
     "metadata": {},
     "output_type": "display_data"
    }
   ],
   "source": [
    "meanPowers = []\n",
    "meanPower = []\n",
    "for angle in angles:\n",
    "    files = angleDicFiles[str(int(angle))]\n",
    "    means = []\n",
    "    for f in files:\n",
    "        data=np.loadtxt(f)\n",
    "        plt.plot(data[:,0],-data[:,1], '.')\n",
    "        #plt.color = (colors[str(int(angle))])\n",
    "        grid()\n",
    "        means.append(np.mean(-data[:,1]))\n",
    "    #print(means)\n",
    "    meanPowers.append(means)   \n",
    "    meanPower.append(np.mean(means))\n",
    "print(meanPower)"
   ]
  },
  {
   "cell_type": "code",
   "execution_count": 124,
   "metadata": {
    "collapsed": false
   },
   "outputs": [
    {
     "name": "stdout",
     "output_type": "stream",
     "text": [
      "[846.11866477966032, 832.39240841868434, 824.68916070932676, 819.07533084032877, 813.80135660261953, 810.36188205396274, 807.96490322471027, 805.71803932050784, 803.98186592007664, 803.05393505377015, 801.30119317764536, 801.39240090263172, 800.97098787375069, 800.21697479060435, 799.87819303239689]\n"
     ]
    }
   ],
   "source": [
    "#G=0.000118338559546\n",
    "#Trec=847.568934377\n",
    "G = 0.00113299392409\n",
    "Trec=-91.8693275607\n",
    "meanTemp = [x/G - Trec for x in meanPower]\n",
    "print(meanTemp)"
   ]
  },
  {
   "cell_type": "code",
   "execution_count": 131,
   "metadata": {
    "collapsed": false
   },
   "outputs": [
    {
     "name": "stdout",
     "output_type": "stream",
     "text": [
      "P(theta) =0.799624303275/(cos(0.27102074883 *(90-theta)))\n"
     ]
    },
    {
     "data": {
      "image/png": "[encoded data removed]",
      "text/plain": [
       "<matplotlib.figure.Figure at 0x11242f860>"
      ]
     },
     "metadata": {},
     "output_type": "display_data"
    }
   ],
   "source": [
    "from scipy.optimize import curve_fit \n",
    "\n",
    "# choose the function to be fitted... \n",
    "def secant (x,a,b):\n",
    "    return a/cos(b*(90-x)*2*pi/360)\n",
    "\n",
    "# exectute the curve fit...\n",
    "coeffs, fiterr = curve_fit(secant, angles, meanPower)\n",
    "\n",
    "# ...and plot the results\n",
    "print (\"P(theta) =%s/(cos(%s *(90-theta)))\" % (coeffs[0],coeffs[1]))\n",
    "plt.plot(angles,meanPower , '+')\n",
    "plt.plot(angles,secant(angles,*coeffs),'r.')\n",
    "plt.show()"
   ]
  },
  {
   "cell_type": "code",
   "execution_count": 126,
   "metadata": {
    "collapsed": false
   },
   "outputs": [
    {
     "name": "stdout",
     "output_type": "stream",
     "text": [
      "a=488.708611504\n"
     ]
    },
    {
     "data": {
      "image/png": "[encoded data removed]",
      "text/plain": [
       "<matplotlib.figure.Figure at 0x1132fe080>"
      ]
     },
     "metadata": {},
     "output_type": "display_data"
    }
   ],
   "source": [
    "# exectute the curve fit...\n",
    "tempCoeffs, tempFiterr = curve_fit(secant, angles, meanTemp)\n",
    "\n",
    "# ...and plot the results\n",
    "print (\"a=%s\" % (tempCoeffs[0]))\n",
    "plt.plot(angles,meanTemp , '+')\n",
    "plt.plot(angles,secant(angles,*tempCoeffs),'r.')\n",
    "plt.show()"
   ]
  },
  {
   "cell_type": "code",
   "execution_count": null,
   "metadata": {
    "collapsed": true
   },
   "outputs": [],
   "source": []
  }
 ],
 "metadata": {
  "anaconda-cloud": {},
  "kernelspec": {
   "display_name": "Python [conda root]",
   "language": "python",
   "name": "conda-root-py"
  },
  "language_info": {
   "codemirror_mode": {
    "name": "ipython",
    "version": 3
   },
   "file_extension": ".py",
   "mimetype": "text/x-python",
   "name": "python",
   "nbconvert_exporter": "python",
   "pygments_lexer": "ipython3",
   "version": "3.5.2"
  }
 },
 "nbformat": 4,
 "nbformat_minor": 1
}
