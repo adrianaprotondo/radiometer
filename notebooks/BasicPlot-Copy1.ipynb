{
 "cells": [
  {
   "cell_type": "code",
   "execution_count": 1,
   "metadata": {
    "collapsed": true
   },
   "outputs": [],
   "source": [
    "import glob"
   ]
  },
  {
   "cell_type": "code",
   "execution_count": 2,
   "metadata": {
    "collapsed": false
   },
   "outputs": [
    {
     "name": "stdout",
     "output_type": "stream",
     "text": [
      "Populating the interactive namespace from numpy and matplotlib\n"
     ]
    }
   ],
   "source": [
    "%pylab inline"
   ]
  },
  {
   "cell_type": "code",
   "execution_count": 3,
   "metadata": {
    "collapsed": false
   },
   "outputs": [],
   "source": [
    "import numpy as np\n",
    "import time\n",
    "import visa"
   ]
  },
  {
   "cell_type": "code",
   "execution_count": 4,
   "metadata": {
    "collapsed": false
   },
   "outputs": [
    {
     "name": "stdout",
     "output_type": "stream",
     "text": [
      "/Users/cosmology/Google Drive/Projects/radiometer\n"
     ]
    }
   ],
   "source": [
    "cd /Users/cosmology/Google Drive/Projects/radiometer"
   ]
  },
  {
   "cell_type": "code",
   "execution_count": 47,
   "metadata": {
    "collapsed": false
   },
   "outputs": [
    {
     "name": "stdout",
     "output_type": "stream",
     "text": [
      "['Data/2016-11-11_14:37:58_Readout.txt', 'Data/2016-11-11_14:47:42_Readout.txt', 'Data/2016-11-11_14:57:26_Readout.txt', 'Data/2016-11-11_15:03:50_Readout.txt', 'Data/2016-11-11_15:26:39_Readout.txt', 'Data/2016-11-11_15:35:43_Readout.txt', 'Data/2016-11-11_15:44:28_Readout.txt', 'Data/2016-11-11_15:52:59_Readout.txt', 'Data/2016-11-11_16:01:15_Readout.txt', 'Data/2016-11-11_16:10:02_Readout.txt', 'Data/2016-11-11_16:17:05_Readout.txt', 'Data/2016-11-11_16:24:42_Readout.txt', 'Data/2016-11-11_16:33:00_Readout.txt', 'Data/2016-11-11_16:40:20_Readout.txt', 'Data/2016-11-11_16:45:40_Readout.txt']\n"
     ]
    }
   ],
   "source": [
    "date = \"2016-11-11\"\n",
    "t = \"\"\n",
    "files = glob.glob(\"Data/\"+date+\"_\"+t+\"*.txt\")\n",
    "print(files)"
   ]
  },
  {
   "cell_type": "code",
   "execution_count": 49,
   "metadata": {
    "collapsed": false
   },
   "outputs": [
    {
     "name": "stdout",
     "output_type": "stream",
     "text": [
      "-0.129227178458\n",
      "-0.134656281407\n"
     ]
    },
    {
     "data": {
      "image/png": "[encoded data removed]",
      "text/plain": [
       "<matplotlib.figure.Figure at 0x10d914b10>"
      ]
     },
     "metadata": {},
     "output_type": "display_data"
    }
   ],
   "source": [
    "for f in files[-2:]:\n",
    "    data=np.loadtxt(f)\n",
    "    plot(data[:,0],-data[:,1], '.')\n",
    "    grid()\n",
    "    print(np.mean(data[:,1]))\n",
    "# savefig(\"Data/noiseFromMovingCable.png\")"
   ]
  },
  {
   "cell_type": "code",
   "execution_count": 34,
   "metadata": {
    "collapsed": false
   },
   "outputs": [
    {
     "data": {
      "text/plain": [
       "<matplotlib.figure.Figure at 0x10d990890>"
      ]
     },
     "metadata": {},
     "output_type": "display_data"
    }
   ],
   "source": [
    "\n"
   ]
  },
  {
   "cell_type": "code",
   "execution_count": null,
   "metadata": {
    "collapsed": true
   },
   "outputs": [],
   "source": []
  }
 ],
 "metadata": {
  "kernelspec": {
   "display_name": "Python 2",
   "language": "python",
   "name": "python2"
  },
  "language_info": {
   "codemirror_mode": {
    "name": "ipython",
    "version": 2
   },
   "file_extension": ".py",
   "mimetype": "text/x-python",
   "name": "python",
   "nbconvert_exporter": "python",
   "pygments_lexer": "ipython2",
   "version": "2.7.12"
  }
 },
 "nbformat": 4,
 "nbformat_minor": 1
}
